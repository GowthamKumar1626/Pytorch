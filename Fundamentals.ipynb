{
 "cells": [
  {
   "cell_type": "code",
   "execution_count": 1,
   "id": "8e60556e-d265-4366-8678-b88559d1930b",
   "metadata": {},
   "outputs": [
    {
     "name": "stdout",
     "output_type": "stream",
     "text": [
      "1.10.0\n"
     ]
    }
   ],
   "source": [
    "import torch\n",
    "import numpy as np\n",
    "\n",
    "print(torch.__version__)"
   ]
  },
  {
   "cell_type": "code",
   "execution_count": 2,
   "id": "f714df24-c447-47c5-bf5a-cf305dd44031",
   "metadata": {},
   "outputs": [],
   "source": [
    "X = torch.tensor([[1, 2]])\n",
    "y = torch.tensor([[1], [2]])"
   ]
  },
  {
   "cell_type": "code",
   "execution_count": 3,
   "id": "e847fb86-a067-46c4-9ac8-974daf8214ed",
   "metadata": {},
   "outputs": [
    {
     "name": "stdout",
     "output_type": "stream",
     "text": [
      "tensor([[1, 2]])\n",
      "tensor([[1],\n",
      "        [2]])\n"
     ]
    }
   ],
   "source": [
    "print(X)\n",
    "print(y)"
   ]
  },
  {
   "cell_type": "code",
   "execution_count": 4,
   "id": "4a1684a6-7d47-4de4-8cbb-9098f0f6b2fa",
   "metadata": {},
   "outputs": [
    {
     "name": "stdout",
     "output_type": "stream",
     "text": [
      "torch.Size([1, 2])\n",
      "torch.Size([2, 1])\n",
      "torch.int64\n",
      "torch.int64\n"
     ]
    }
   ],
   "source": [
    "print(X.shape)\n",
    "print(y.shape)\n",
    "print(X.dtype)\n",
    "print(y.dtype)"
   ]
  },
  {
   "cell_type": "code",
   "execution_count": 5,
   "id": "8c89a3d1-a631-4fbc-803b-a9c561cd478c",
   "metadata": {},
   "outputs": [
    {
     "name": "stdout",
     "output_type": "stream",
     "text": [
      "tensor([0., 1., 2.])\n"
     ]
    }
   ],
   "source": [
    "X = torch.tensor([False, 1, 2.0])\n",
    "print(X)"
   ]
  },
  {
   "cell_type": "code",
   "execution_count": 6,
   "id": "42c2a3fd-f7fe-4c42-8cd7-f65557fd63b0",
   "metadata": {},
   "outputs": [
    {
     "data": {
      "text/plain": [
       "tensor([[0., 0., 0., 0.],\n",
       "        [0., 0., 0., 0.],\n",
       "        [0., 0., 0., 0.]])"
      ]
     },
     "execution_count": 6,
     "metadata": {},
     "output_type": "execute_result"
    }
   ],
   "source": [
    "torch.zeros((3, 4))"
   ]
  },
  {
   "cell_type": "code",
   "execution_count": 7,
   "id": "d332ac9b-bb32-4cd7-9059-ef9f87af03fc",
   "metadata": {},
   "outputs": [
    {
     "data": {
      "text/plain": [
       "tensor([[1., 1., 1., 1.],\n",
       "        [1., 1., 1., 1.],\n",
       "        [1., 1., 1., 1.]])"
      ]
     },
     "execution_count": 7,
     "metadata": {},
     "output_type": "execute_result"
    }
   ],
   "source": [
    "torch.ones((3, 4))"
   ]
  },
  {
   "cell_type": "code",
   "execution_count": 8,
   "id": "7c7884e8-9742-44ab-a4b3-92b3f435358a",
   "metadata": {},
   "outputs": [
    {
     "data": {
      "text/plain": [
       "tensor([[0, 0, 1, 8],\n",
       "        [0, 1, 0, 5],\n",
       "        [5, 1, 4, 7]])"
      ]
     },
     "execution_count": 8,
     "metadata": {},
     "output_type": "execute_result"
    }
   ],
   "source": [
    "# torch.randint(0, 10, (3, 4))\n",
    "torch.randint(low = 0, high = 10, size = (3, 4))"
   ]
  },
  {
   "cell_type": "code",
   "execution_count": 9,
   "id": "cf482237-3879-480b-8099-437b7e8f9fa9",
   "metadata": {},
   "outputs": [
    {
     "data": {
      "text/plain": [
       "tensor([[0.1323, 0.0864, 0.4792, 0.1346],\n",
       "        [0.1082, 0.2348, 0.9962, 0.8747],\n",
       "        [0.5507, 0.8776, 0.4322, 0.4080]])"
      ]
     },
     "execution_count": 9,
     "metadata": {},
     "output_type": "execute_result"
    }
   ],
   "source": [
    "torch.rand(3, 4)"
   ]
  },
  {
   "cell_type": "code",
   "execution_count": 10,
   "id": "1a1e5531-abd3-4202-b64e-0af738c398ba",
   "metadata": {},
   "outputs": [
    {
     "data": {
      "text/plain": [
       "tensor([[ 0.1443, -2.1091,  2.1000, -1.9289],\n",
       "        [-1.1227,  0.3166,  1.0327,  1.8481],\n",
       "        [-0.4303, -0.2137,  0.9146,  0.1693]])"
      ]
     },
     "execution_count": 10,
     "metadata": {},
     "output_type": "execute_result"
    }
   ],
   "source": [
    "torch.randn((3, 4))"
   ]
  },
  {
   "cell_type": "code",
   "execution_count": 11,
   "id": "6c31ca8c-02fb-4793-abbe-b08036ca44b6",
   "metadata": {},
   "outputs": [
    {
     "data": {
      "text/plain": [
       "tensor([[ 1.5680, -0.8388, -0.1315,  1.4156],\n",
       "        [-1.7779,  0.0783,  1.2355,  1.1324],\n",
       "        [ 0.7822,  0.1467, -1.0978,  1.1227]])"
      ]
     },
     "execution_count": 11,
     "metadata": {},
     "output_type": "execute_result"
    }
   ],
   "source": [
    "torch.randn(3, 4)"
   ]
  },
  {
   "cell_type": "code",
   "execution_count": 12,
   "id": "f0b3f3d5-9296-445b-a45f-b680aebe1700",
   "metadata": {},
   "outputs": [
    {
     "name": "stdout",
     "output_type": "stream",
     "text": [
      "[[1 2 3 4]\n",
      " [5 6 7 8]]\n",
      "tensor([[1, 2, 3, 4],\n",
      "        [5, 6, 7, 8]])\n"
     ]
    }
   ],
   "source": [
    "X = np.array([[1, 2, 3, 4], [5, 6, 7, 8]])\n",
    "y = torch.tensor(X)\n",
    "\n",
    "print(X)\n",
    "print(y)"
   ]
  },
  {
   "cell_type": "code",
   "execution_count": 13,
   "id": "78b9f750-ace4-4711-a7e0-b188ce9cbd94",
   "metadata": {},
   "outputs": [
    {
     "name": "stdout",
     "output_type": "stream",
     "text": [
      "tensor([[10, 20, 30, 40],\n",
      "        [50, 60, 70, 80]])\n"
     ]
    }
   ],
   "source": [
    "print(y * 10)"
   ]
  },
  {
   "cell_type": "code",
   "execution_count": 14,
   "id": "bf437ef8-32e4-4bd0-b1ee-be234f61796a",
   "metadata": {},
   "outputs": [
    {
     "name": "stdout",
     "output_type": "stream",
     "text": [
      "tensor([[11, 12, 13, 14],\n",
      "        [15, 16, 17, 18]])\n"
     ]
    }
   ],
   "source": [
    "y = y.add(10)\n",
    "\n",
    "print(y)"
   ]
  },
  {
   "cell_type": "code",
   "execution_count": 15,
   "id": "f81c7b6d-f62a-4276-91c7-9672343bce0e",
   "metadata": {},
   "outputs": [
    {
     "data": {
      "text/plain": [
       "torch.Size([4])"
      ]
     },
     "execution_count": 15,
     "metadata": {},
     "output_type": "execute_result"
    }
   ],
   "source": [
    "y = torch.tensor([2, 3, 4, 5])\n",
    "y.shape"
   ]
  },
  {
   "cell_type": "code",
   "execution_count": 16,
   "id": "e933d306-128a-430a-8e84-370acb4f73c9",
   "metadata": {},
   "outputs": [
    {
     "name": "stdout",
     "output_type": "stream",
     "text": [
      "tensor([[2],\n",
      "        [3],\n",
      "        [4],\n",
      "        [5]])\n"
     ]
    },
    {
     "data": {
      "text/plain": [
       "torch.Size([4, 1])"
      ]
     },
     "execution_count": 16,
     "metadata": {},
     "output_type": "execute_result"
    }
   ],
   "source": [
    "y = y.view(4, 1)\n",
    "print(y)\n",
    "y.shape"
   ]
  },
  {
   "cell_type": "code",
   "execution_count": 17,
   "id": "14171ff5-6e36-4b1a-aa2d-f0b215548efa",
   "metadata": {},
   "outputs": [
    {
     "name": "stdout",
     "output_type": "stream",
     "text": [
      "tensor([[[ 0.9456,  0.6333, -1.6083, -0.6045,  0.1189,  0.6244,  0.2853,\n",
      "           0.1223, -1.1188, -0.0717]],\n",
      "\n",
      "        [[ 0.3951,  0.4006, -1.2516,  1.2720, -1.6697,  0.4127,  0.0948,\n",
      "          -1.8588, -0.6333,  0.6259]],\n",
      "\n",
      "        [[-2.7288,  0.4464, -1.1006, -0.5945, -0.2190,  0.3312, -0.0913,\n",
      "           0.0113, -0.3702,  1.4103]],\n",
      "\n",
      "        [[ 0.4481,  0.2301,  0.0162,  0.4532, -0.6368,  0.5993,  1.5295,\n",
      "          -0.9565, -0.1768,  1.2947]],\n",
      "\n",
      "        [[-0.9751, -0.7927,  0.2819,  0.8268,  1.1476,  0.2141,  1.2720,\n",
      "           0.2731, -0.2355,  0.1665]],\n",
      "\n",
      "        [[-0.4082,  0.9627, -0.5649,  0.0390,  0.5895,  1.7423,  1.0959,\n",
      "          -0.7511, -0.4264,  1.8337]],\n",
      "\n",
      "        [[ 0.5386,  0.7269,  0.0703, -0.6510, -0.7761,  0.4933,  0.3338,\n",
      "           2.0475,  0.7823,  1.0184]],\n",
      "\n",
      "        [[-2.2957,  1.1488, -0.6018,  2.1096,  0.0684,  1.9993,  0.2551,\n",
      "           1.2192, -0.7785, -0.3742]],\n",
      "\n",
      "        [[ 1.1194,  0.7307, -0.2450, -1.6864,  0.0181,  0.1325,  0.1556,\n",
      "          -0.2046, -0.1852,  1.1439]],\n",
      "\n",
      "        [[ 2.7520, -1.4782,  1.4381,  0.0760,  0.8109, -1.0929, -0.8549,\n",
      "           1.6914, -0.6110, -1.7607]]])\n",
      "torch.Size([10, 1, 10])\n"
     ]
    }
   ],
   "source": [
    "x = torch.randn(10, 1, 10)\n",
    "print(x)\n",
    "print(x.shape)"
   ]
  },
  {
   "cell_type": "code",
   "execution_count": 18,
   "id": "c2883526-f007-4a83-b8a1-fffd7eb6e949",
   "metadata": {},
   "outputs": [
    {
     "name": "stdout",
     "output_type": "stream",
     "text": [
      "tensor([[ 0.9456,  0.6333, -1.6083, -0.6045,  0.1189,  0.6244,  0.2853,  0.1223,\n",
      "         -1.1188, -0.0717],\n",
      "        [ 0.3951,  0.4006, -1.2516,  1.2720, -1.6697,  0.4127,  0.0948, -1.8588,\n",
      "         -0.6333,  0.6259],\n",
      "        [-2.7288,  0.4464, -1.1006, -0.5945, -0.2190,  0.3312, -0.0913,  0.0113,\n",
      "         -0.3702,  1.4103],\n",
      "        [ 0.4481,  0.2301,  0.0162,  0.4532, -0.6368,  0.5993,  1.5295, -0.9565,\n",
      "         -0.1768,  1.2947],\n",
      "        [-0.9751, -0.7927,  0.2819,  0.8268,  1.1476,  0.2141,  1.2720,  0.2731,\n",
      "         -0.2355,  0.1665],\n",
      "        [-0.4082,  0.9627, -0.5649,  0.0390,  0.5895,  1.7423,  1.0959, -0.7511,\n",
      "         -0.4264,  1.8337],\n",
      "        [ 0.5386,  0.7269,  0.0703, -0.6510, -0.7761,  0.4933,  0.3338,  2.0475,\n",
      "          0.7823,  1.0184],\n",
      "        [-2.2957,  1.1488, -0.6018,  2.1096,  0.0684,  1.9993,  0.2551,  1.2192,\n",
      "         -0.7785, -0.3742],\n",
      "        [ 1.1194,  0.7307, -0.2450, -1.6864,  0.0181,  0.1325,  0.1556, -0.2046,\n",
      "         -0.1852,  1.1439],\n",
      "        [ 2.7520, -1.4782,  1.4381,  0.0760,  0.8109, -1.0929, -0.8549,  1.6914,\n",
      "         -0.6110, -1.7607]])\n",
      "torch.Size([10, 10])\n"
     ]
    }
   ],
   "source": [
    "z1 = torch.squeeze(x, 1)\n",
    "print(z1)\n",
    "print(z1.shape)"
   ]
  },
  {
   "cell_type": "code",
   "execution_count": 19,
   "id": "55bfa113-1cdc-4354-af16-90b1aa265581",
   "metadata": {},
   "outputs": [
    {
     "name": "stdout",
     "output_type": "stream",
     "text": [
      "tensor([[ 0.9456,  0.6333, -1.6083, -0.6045,  0.1189,  0.6244,  0.2853,  0.1223,\n",
      "         -1.1188, -0.0717],\n",
      "        [ 0.3951,  0.4006, -1.2516,  1.2720, -1.6697,  0.4127,  0.0948, -1.8588,\n",
      "         -0.6333,  0.6259],\n",
      "        [-2.7288,  0.4464, -1.1006, -0.5945, -0.2190,  0.3312, -0.0913,  0.0113,\n",
      "         -0.3702,  1.4103],\n",
      "        [ 0.4481,  0.2301,  0.0162,  0.4532, -0.6368,  0.5993,  1.5295, -0.9565,\n",
      "         -0.1768,  1.2947],\n",
      "        [-0.9751, -0.7927,  0.2819,  0.8268,  1.1476,  0.2141,  1.2720,  0.2731,\n",
      "         -0.2355,  0.1665],\n",
      "        [-0.4082,  0.9627, -0.5649,  0.0390,  0.5895,  1.7423,  1.0959, -0.7511,\n",
      "         -0.4264,  1.8337],\n",
      "        [ 0.5386,  0.7269,  0.0703, -0.6510, -0.7761,  0.4933,  0.3338,  2.0475,\n",
      "          0.7823,  1.0184],\n",
      "        [-2.2957,  1.1488, -0.6018,  2.1096,  0.0684,  1.9993,  0.2551,  1.2192,\n",
      "         -0.7785, -0.3742],\n",
      "        [ 1.1194,  0.7307, -0.2450, -1.6864,  0.0181,  0.1325,  0.1556, -0.2046,\n",
      "         -0.1852,  1.1439],\n",
      "        [ 2.7520, -1.4782,  1.4381,  0.0760,  0.8109, -1.0929, -0.8549,  1.6914,\n",
      "         -0.6110, -1.7607]])\n",
      "torch.Size([10, 10])\n"
     ]
    }
   ],
   "source": [
    "z2 = x.squeeze(1)\n",
    "print(z2)\n",
    "print(z2.shape)"
   ]
  },
  {
   "cell_type": "code",
   "execution_count": 20,
   "id": "a6ffe763-4fcc-4442-bb2a-d94429e4fa34",
   "metadata": {},
   "outputs": [
    {
     "name": "stdout",
     "output_type": "stream",
     "text": [
      "tensor([11, 35])\n"
     ]
    }
   ],
   "source": [
    "X = torch.tensor([[1, 2, 3, 4], [5, 6, 7, 8]])\n",
    "y = torch.tensor([2, 3, 1, 0])\n",
    "\n",
    "print(torch.matmul(X, y))"
   ]
  },
  {
   "cell_type": "code",
   "execution_count": 21,
   "id": "8fd106d0-2c75-46f7-bf3c-48307f1cf019",
   "metadata": {},
   "outputs": [
    {
     "name": "stdout",
     "output_type": "stream",
     "text": [
      "tensor([[11],\n",
      "        [35]])\n"
     ]
    }
   ],
   "source": [
    "X = torch.tensor([[1, 2, 3, 4], [5, 6, 7, 8]])\n",
    "y = torch.tensor([2, 3, 1, 0]).view(4, 1)\n",
    "\n",
    "print(torch.matmul(X, y))"
   ]
  },
  {
   "cell_type": "code",
   "execution_count": 22,
   "id": "8da35ee5-3614-46db-b962-c249e3690168",
   "metadata": {},
   "outputs": [
    {
     "name": "stdout",
     "output_type": "stream",
     "text": [
      "tensor([[11],\n",
      "        [35]])\n"
     ]
    }
   ],
   "source": [
    "print(X@y)"
   ]
  },
  {
   "cell_type": "code",
   "execution_count": 23,
   "id": "3509bf4f-e85c-4a13-a7dc-86da23a531e1",
   "metadata": {},
   "outputs": [
    {
     "name": "stdout",
     "output_type": "stream",
     "text": [
      "tensor([[ 0,  1,  2,  3,  4],\n",
      "        [ 5,  6,  7,  8,  9],\n",
      "        [10, 11, 12, 13, 14],\n",
      "        [15, 16, 17, 18, 19],\n",
      "        [20, 21, 22, 23, 24]])\n",
      "torch.return_types.max(\n",
      "values=tensor([20, 21, 22, 23, 24]),\n",
      "indices=tensor([4, 4, 4, 4, 4]))\n"
     ]
    }
   ],
   "source": [
    "x = torch.arange(25).reshape(5, 5)\n",
    "print(x)\n",
    "\n",
    "print(x.max(dim=0))"
   ]
  },
  {
   "cell_type": "markdown",
   "id": "c2209cdc-e071-4db5-97f4-aac315af5037",
   "metadata": {},
   "source": [
    "## Gradients"
   ]
  },
  {
   "cell_type": "code",
   "execution_count": 24,
   "id": "376c0d37-6108-408b-8e3d-c1b03c525a33",
   "metadata": {},
   "outputs": [
    {
     "name": "stdout",
     "output_type": "stream",
     "text": [
      "tensor([[ 2., -1.],\n",
      "        [ 1.,  1.]], requires_grad=True)\n"
     ]
    }
   ],
   "source": [
    "x = torch.tensor([[2., -1.], [1., 1.]], requires_grad=True)\n",
    "print(x)"
   ]
  },
  {
   "cell_type": "code",
   "execution_count": 25,
   "id": "1e503eee-3d82-4799-b8b0-86f2bf79c443",
   "metadata": {},
   "outputs": [
    {
     "name": "stdout",
     "output_type": "stream",
     "text": [
      "tensor(7., grad_fn=<SumBackward0>)\n"
     ]
    }
   ],
   "source": [
    "out = x.pow(2).sum()\n",
    "print(out)"
   ]
  },
  {
   "cell_type": "code",
   "execution_count": 26,
   "id": "0f1025ea-e505-4ad7-a052-a863dcc2ab77",
   "metadata": {},
   "outputs": [
    {
     "name": "stdout",
     "output_type": "stream",
     "text": [
      "None\n"
     ]
    }
   ],
   "source": [
    "print(x.grad)"
   ]
  },
  {
   "cell_type": "code",
   "execution_count": 27,
   "id": "c87193cd-4670-49f9-b7b3-d0082045abe0",
   "metadata": {},
   "outputs": [],
   "source": [
    "out.backward()"
   ]
  },
  {
   "cell_type": "code",
   "execution_count": 28,
   "id": "885b034e-709c-4f8f-a3c9-9c73a4ecde19",
   "metadata": {},
   "outputs": [
    {
     "name": "stdout",
     "output_type": "stream",
     "text": [
      "tensor(7., grad_fn=<SumBackward0>)\n"
     ]
    }
   ],
   "source": [
    "print(out)"
   ]
  },
  {
   "cell_type": "code",
   "execution_count": 29,
   "id": "bd39a778-093c-4826-8fb6-3b8a0205d580",
   "metadata": {},
   "outputs": [
    {
     "name": "stdout",
     "output_type": "stream",
     "text": [
      "tensor([[ 2., -1.],\n",
      "        [ 1.,  1.]], requires_grad=True)\n"
     ]
    }
   ],
   "source": [
    "print(x)"
   ]
  },
  {
   "cell_type": "code",
   "execution_count": 30,
   "id": "9f9a2aaf-f8f8-4c32-a6c5-78ad9d56e537",
   "metadata": {},
   "outputs": [
    {
     "name": "stdout",
     "output_type": "stream",
     "text": [
      "tensor([[ 4., -2.],\n",
      "        [ 2.,  2.]])\n"
     ]
    }
   ],
   "source": [
    "print(x.grad)"
   ]
  },
  {
   "cell_type": "code",
   "execution_count": 77,
   "id": "97746268-5e4e-4a6b-a0cc-ac67322237f1",
   "metadata": {},
   "outputs": [
    {
     "name": "stdout",
     "output_type": "stream",
     "text": [
      "10 ms ± 1.31 ms per loop (mean ± std. dev. of 7 runs, 100 loops each)\n"
     ]
    }
   ],
   "source": [
    "x = torch.rand(1, 6400)\n",
    "y = torch.rand(6400, 5000)\n",
    "\n",
    "device = 'cuda' if torch.cuda.is_available() else 'cpu'\n",
    "\n",
    "x, y = x.to(device), y.to(device)\n",
    "\n",
    "%timeit z = (x@y)"
   ]
  },
  {
   "cell_type": "code",
   "execution_count": 78,
   "id": "a014f6f7-2aa2-420a-9cce-45bcbc864b05",
   "metadata": {},
   "outputs": [
    {
     "name": "stdout",
     "output_type": "stream",
     "text": [
      "9.69 ms ± 689 µs per loop (mean ± std. dev. of 7 runs, 100 loops each)\n"
     ]
    }
   ],
   "source": [
    "x = torch.rand(1, 6400)\n",
    "y = torch.rand(6400, 5000)\n",
    "\n",
    "x, y = x.cpu(), y.cpu()\n",
    "\n",
    "%timeit z = (x@y)"
   ]
  },
  {
   "cell_type": "code",
   "execution_count": 79,
   "id": "db4479e3-8de9-4e85-8b0b-c5a9943ddcc1",
   "metadata": {},
   "outputs": [
    {
     "name": "stdout",
     "output_type": "stream",
     "text": [
      "22.9 ms ± 5.64 ms per loop (mean ± std. dev. of 7 runs, 100 loops each)\n"
     ]
    }
   ],
   "source": [
    "x = np.random.random((1, 6400))\n",
    "y = np.random.random((6400, 5000))\n",
    "\n",
    "%timeit z = np.matmul(x,y)"
   ]
  },
  {
   "cell_type": "markdown",
   "id": "ead1083f-b2c4-4a1a-a919-854f5cb33b32",
   "metadata": {},
   "source": [
    "## Neural Network"
   ]
  },
  {
   "cell_type": "code",
   "execution_count": 31,
   "id": "00b14969-4ac3-48c0-b214-ba9cc340fa08",
   "metadata": {},
   "outputs": [],
   "source": [
    "X = [[1, 2], [3, 4], [5, 6], [7, 8]]\n",
    "y = [[3], [7], [11], [15]]"
   ]
  },
  {
   "cell_type": "code",
   "execution_count": 32,
   "id": "905300db-1b79-4d5e-aec7-d7b4d6be817d",
   "metadata": {},
   "outputs": [],
   "source": [
    "X = torch.tensor(X).float()\n",
    "y = torch.tensor(y).float()"
   ]
  },
  {
   "cell_type": "code",
   "execution_count": 33,
   "id": "79cb6953-8e03-44dd-bd26-bafa07fddb3d",
   "metadata": {},
   "outputs": [
    {
     "name": "stdout",
     "output_type": "stream",
     "text": [
      "tensor([[1., 2.],\n",
      "        [3., 4.],\n",
      "        [5., 6.],\n",
      "        [7., 8.]])\n",
      "tensor([[ 3.],\n",
      "        [ 7.],\n",
      "        [11.],\n",
      "        [15.]])\n"
     ]
    }
   ],
   "source": [
    "print(X)\n",
    "print(y)"
   ]
  },
  {
   "cell_type": "code",
   "execution_count": 34,
   "id": "c532185b-771f-4feb-af74-85dd05287c83",
   "metadata": {},
   "outputs": [],
   "source": [
    "device = 'cuda' if torch.cuda.is_available() else 'cpu'\n",
    "\n",
    "X, y = X.to(device), y.to(device)"
   ]
  },
  {
   "cell_type": "code",
   "execution_count": 35,
   "id": "f4c6022b-e86c-4c0c-ac1e-ae6fcce1cf1b",
   "metadata": {},
   "outputs": [
    {
     "name": "stdout",
     "output_type": "stream",
     "text": [
      "Linear(in_features=2, out_features=7, bias=True)\n"
     ]
    }
   ],
   "source": [
    "import torch.nn as nn\n",
    "\n",
    "print(nn.Linear(2, 7))"
   ]
  },
  {
   "cell_type": "code",
   "execution_count": 36,
   "id": "046ae01c-cf8e-4faf-a3b0-110bdcfb9596",
   "metadata": {},
   "outputs": [],
   "source": [
    "import torch.nn as nn\n",
    "\n",
    "class NeuralNetwork(nn.Module):\n",
    "    def __init__(self):\n",
    "        super().__init__()\n",
    "        self.input_to_hidden_layer = nn.Linear(2, 8)\n",
    "        self.hidden_layer_activation = nn.ReLU()\n",
    "        self.hidden_to_output_layer = nn.Linear(8, 1)\n",
    "    \n",
    "    def forward(self, x):\n",
    "        x = self.input_to_hidden_layer(x)\n",
    "        x = self.hidden_layer_activation(x)\n",
    "        x = self.hidden_to_output_layer(x)\n",
    "        \n",
    "        return x\n",
    "\n",
    "model = NeuralNetwork().to(device)"
   ]
  },
  {
   "cell_type": "code",
   "execution_count": 37,
   "id": "d980b3f1-c3b0-4d53-a13b-fbff9ab50e1f",
   "metadata": {},
   "outputs": [
    {
     "data": {
      "text/plain": [
       "Parameter containing:\n",
       "tensor([[-0.1861, -0.3878],\n",
       "        [ 0.6134, -0.5727],\n",
       "        [ 0.1202,  0.0936],\n",
       "        [ 0.3686, -0.3635],\n",
       "        [ 0.4570, -0.1162],\n",
       "        [-0.6665, -0.1283],\n",
       "        [ 0.0961, -0.3962],\n",
       "        [ 0.0026, -0.4034]], requires_grad=True)"
      ]
     },
     "execution_count": 37,
     "metadata": {},
     "output_type": "execute_result"
    }
   ],
   "source": [
    "model.input_to_hidden_layer.weight"
   ]
  },
  {
   "cell_type": "code",
   "execution_count": 38,
   "id": "66bb9485-de80-4dc5-87ec-c4fb58119bfa",
   "metadata": {},
   "outputs": [
    {
     "name": "stdout",
     "output_type": "stream",
     "text": [
      "Parameter containing:\n",
      "tensor([[-0.1861, -0.3878],\n",
      "        [ 0.6134, -0.5727],\n",
      "        [ 0.1202,  0.0936],\n",
      "        [ 0.3686, -0.3635],\n",
      "        [ 0.4570, -0.1162],\n",
      "        [-0.6665, -0.1283],\n",
      "        [ 0.0961, -0.3962],\n",
      "        [ 0.0026, -0.4034]], requires_grad=True)\n",
      "Parameter containing:\n",
      "tensor([-0.1178,  0.1538, -0.2121,  0.6901, -0.6014,  0.6304, -0.5431,  0.2131],\n",
      "       requires_grad=True)\n",
      "Parameter containing:\n",
      "tensor([[-0.0897, -0.2801, -0.2395,  0.2773,  0.3004, -0.1611, -0.2046, -0.3126]],\n",
      "       requires_grad=True)\n",
      "Parameter containing:\n",
      "tensor([0.2921], requires_grad=True)\n"
     ]
    }
   ],
   "source": [
    "for parameter in model.parameters():\n",
    "    print(parameter)"
   ]
  },
  {
   "cell_type": "code",
   "execution_count": 39,
   "id": "32c644a7-ac0c-4e3a-9c8b-f9bad9017cdc",
   "metadata": {},
   "outputs": [],
   "source": [
    "loss_func = nn.MSELoss()"
   ]
  },
  {
   "cell_type": "code",
   "execution_count": 40,
   "id": "daeba566-bddf-48d2-b364-ee4a1556c2cf",
   "metadata": {},
   "outputs": [
    {
     "name": "stdout",
     "output_type": "stream",
     "text": [
      "tensor([[0.3613],\n",
      "        [0.3534],\n",
      "        [0.4586],\n",
      "        [0.5638]], grad_fn=<AddmmBackward0>)\n"
     ]
    }
   ],
   "source": [
    "_y = model(X)\n",
    "\n",
    "print(_y)"
   ]
  },
  {
   "cell_type": "code",
   "execution_count": 41,
   "id": "1e206496-6660-4aa9-a40c-bbf6a2bf457a",
   "metadata": {},
   "outputs": [
    {
     "name": "stdout",
     "output_type": "stream",
     "text": [
      "tensor(92.6669, grad_fn=<MseLossBackward0>)\n"
     ]
    }
   ],
   "source": [
    "loss_value = loss_func(_y, y)\n",
    "\n",
    "print(loss_value)"
   ]
  },
  {
   "cell_type": "code",
   "execution_count": 42,
   "id": "4b1ff082-6583-44b8-8323-112c523f26fa",
   "metadata": {},
   "outputs": [
    {
     "name": "stdout",
     "output_type": "stream",
     "text": [
      "SGD (\n",
      "Parameter Group 0\n",
      "    dampening: 0\n",
      "    lr: 0.001\n",
      "    momentum: 0\n",
      "    nesterov: False\n",
      "    weight_decay: 0\n",
      ")\n"
     ]
    }
   ],
   "source": [
    "from torch.optim import SGD\n",
    "\n",
    "optimizer = SGD(model.parameters(), lr=0.001)\n",
    "print(optimizer)"
   ]
  },
  {
   "cell_type": "code",
   "execution_count": 43,
   "id": "3fa259cc-28ed-4a1c-95a9-15be0aa7976b",
   "metadata": {},
   "outputs": [],
   "source": [
    "loss_history = []\n",
    "\n",
    "for _ in range(50):\n",
    "    optimizer.zero_grad() # Flush previous epoch grads\n",
    "    loss_value = loss_func(model(X), y) # Compute new losses\n",
    "    loss_value.backward() # Perform back-propogation\n",
    "    optimizer.step() # Update weights and biases\n",
    "    loss_history.append(loss_value.detach().numpy())"
   ]
  },
  {
   "cell_type": "code",
   "execution_count": 44,
   "id": "a3f84618-3976-47ce-ab06-085a2a12b4cf",
   "metadata": {},
   "outputs": [
    {
     "data": {
      "text/plain": [
       "Text(0, 0.5, 'loss value')"
      ]
     },
     "execution_count": 44,
     "metadata": {},
     "output_type": "execute_result"
    },
    {
     "data": {
      "image/png": "[encoded data removed]",
      "text/plain": [
       "<Figure size 432x288 with 1 Axes>"
      ]
     },
     "metadata": {
      "needs_background": "light"
     },
     "output_type": "display_data"
    }
   ],
   "source": [
    "import matplotlib.pyplot as plt\n",
    "\n",
    "%matplotlib inline\n",
    "\n",
    "plt.plot(loss_history)\n",
    "plt.title('Loss variation over increasing epochs')\n",
    "plt.xlabel('epochs')\n",
    "plt.ylabel('loss value')"
   ]
  },
  {
   "cell_type": "code",
   "execution_count": 45,
   "id": "88d33842-32dd-4fa6-a374-36a80a729ed1",
   "metadata": {},
   "outputs": [
    {
     "name": "stdout",
     "output_type": "stream",
     "text": [
      "tensor([[20.9184]], grad_fn=<AddmmBackward0>)\n"
     ]
    }
   ],
   "source": [
    "test_x = [[10, 11]]\n",
    "test_x = torch.tensor(test_x).float().to(device)\n",
    "\n",
    "print(model(test_x))"
   ]
  },
  {
   "cell_type": "markdown",
   "id": "b110aa25-f15e-460f-af2a-0fca2f582e1a",
   "metadata": {},
   "source": [
    "## DataLoader"
   ]
  },
  {
   "cell_type": "code",
   "execution_count": 46,
   "id": "da28e7fa-1aa9-49af-9416-3ccdaabec27a",
   "metadata": {},
   "outputs": [],
   "source": [
    "from torch.utils.data import Dataset, DataLoader\n",
    "import torch\n",
    "import torch.nn as nn\n",
    "\n",
    "X = [[1, 2], [3, 4], [5, 6], [7, 8]]\n",
    "y = [[3], [7], [11], [15]]\n",
    "\n",
    "device = 'cuda' if torch.cuda.is_available() else 'cpu'\n",
    "\n",
    "X = torch.tensor(X).float().to(device)\n",
    "y = torch.tensor(y).float().to(device)"
   ]
  },
  {
   "cell_type": "code",
   "execution_count": 48,
   "id": "1aaf38c3-1313-4bd7-a33c-cdf270af0509",
   "metadata": {},
   "outputs": [],
   "source": [
    "class MyDataset(Dataset):\n",
    "    def __init__(self, x, y):\n",
    "        self.x = x.detach().clone()\n",
    "        self.y = y.detach().clone()\n",
    "    def __len__(self):\n",
    "        return len(self.x)\n",
    "    def __getitem__(self, ix):\n",
    "        return self.x[ix], self.y[ix]\n",
    "\n",
    "ds = MyDataset(X, y)"
   ]
  },
  {
   "cell_type": "code",
   "execution_count": 49,
   "id": "ff534b6b-2096-4f54-824b-069770501cd8",
   "metadata": {},
   "outputs": [],
   "source": [
    "dl = DataLoader(ds, batch_size=2, shuffle=True)"
   ]
  },
  {
   "cell_type": "code",
   "execution_count": 50,
   "id": "d4ea5672-58a2-4bfc-aaa8-65207fa8c1ba",
   "metadata": {},
   "outputs": [
    {
     "name": "stdout",
     "output_type": "stream",
     "text": [
      "tensor([[5., 6.],\n",
      "        [1., 2.]]) tensor([[11.],\n",
      "        [ 3.]])\n",
      "tensor([[7., 8.],\n",
      "        [3., 4.]]) tensor([[15.],\n",
      "        [ 7.]])\n"
     ]
    }
   ],
   "source": [
    "for x, y in dl:\n",
    "    print(x, y)"
   ]
  },
  {
   "cell_type": "code",
   "execution_count": 51,
   "id": "3312dffa-594a-4594-808d-fd130abe73b6",
   "metadata": {},
   "outputs": [],
   "source": [
    "class NeuralNet(nn.Module):\n",
    "    def __init__(self):\n",
    "        super().__init__()\n",
    "        self.input_to_hidden_layer = nn.Linear(2, 8)\n",
    "        self.hidden_layer_activation = nn.ReLU()\n",
    "        self.hidden_to_output_layer = nn.Linear(8, 1)\n",
    "    def forward(self, x):\n",
    "        x = self.input_to_hidden_layer(x)\n",
    "        x = self.hidden_layer_activation(x)\n",
    "        x = self.hidden_to_output_layer(x)\n",
    "        return x\n",
    "\n",
    "model = NeuralNet().to(device)\n",
    "loss_fn = nn.MSELoss()\n",
    "opt = SGD(model.parameters(), lr = 0.001)"
   ]
  },
  {
   "cell_type": "code",
   "execution_count": 53,
   "id": "dd9b620d-522e-44a3-a48a-556a6f435135",
   "metadata": {},
   "outputs": [
    {
     "name": "stdout",
     "output_type": "stream",
     "text": [
      "0.08878588676452637\n"
     ]
    }
   ],
   "source": [
    "import time\n",
    "\n",
    "loss_history = []\n",
    "\n",
    "start = time.time()\n",
    "\n",
    "for _ in range(50):\n",
    "    for batch in dl:\n",
    "        x, y = batch\n",
    "        opt.zero_grad()\n",
    "        loss_value = loss_fn(model(x), y)\n",
    "        loss_value.backward()\n",
    "        opt.step()\n",
    "        loss_history.append(loss_value.detach().numpy())\n",
    "    \n",
    "end = time.time()\n",
    "print(end - start)"
   ]
  },
  {
   "cell_type": "code",
   "execution_count": 54,
   "id": "c1210914-d80a-4bc6-9d9e-77af84f7d068",
   "metadata": {},
   "outputs": [
    {
     "data": {
      "text/plain": [
       "Text(0, 0.5, 'loss value')"
      ]
     },
     "execution_count": 54,
     "metadata": {},
     "output_type": "execute_result"
    },
    {
     "data": {
      "image/png": "[encoded data removed]",
      "text/plain": [
       "<Figure size 432x288 with 1 Axes>"
      ]
     },
     "metadata": {
      "needs_background": "light"
     },
     "output_type": "display_data"
    }
   ],
   "source": [
    "plt.plot(loss_history)\n",
    "plt.title('Loss variation over increasing epochs')\n",
    "plt.xlabel('epochs')\n",
    "plt.ylabel('loss value')"
   ]
  },
  {
   "cell_type": "code",
   "execution_count": 55,
   "id": "7a93d577-f473-49d1-a6ed-c1bb302a0748",
   "metadata": {},
   "outputs": [],
   "source": [
    "val_x = [[10 , 11]]\n",
    "val_x = torch.tensor(val_x).float()"
   ]
  },
  {
   "cell_type": "code",
   "execution_count": 56,
   "id": "869fb832-d282-46f5-9c64-70e0d3319822",
   "metadata": {},
   "outputs": [
    {
     "data": {
      "text/plain": [
       "tensor([[20.3010]], grad_fn=<AddmmBackward0>)"
      ]
     },
     "execution_count": 56,
     "metadata": {},
     "output_type": "execute_result"
    }
   ],
   "source": [
    "model(val_x)"
   ]
  },
  {
   "cell_type": "markdown",
   "id": "41d7c4ba-f595-4a78-874a-dfa42e722881",
   "metadata": {},
   "source": [
    "## Custom Loss"
   ]
  },
  {
   "cell_type": "code",
   "execution_count": 98,
   "id": "5607abc3-48d5-447e-9aa3-a3227f4d81f8",
   "metadata": {},
   "outputs": [
    {
     "name": "stdout",
     "output_type": "stream",
     "text": [
      "0.09914612770080566\n"
     ]
    },
    {
     "data": {
      "text/plain": [
       "Text(0, 0.5, 'loss value')"
      ]
     },
     "execution_count": 98,
     "metadata": {},
     "output_type": "execute_result"
    },
    {
     "data": {
      "image/png": "[encoded data removed]",
      "text/plain": [
       "<Figure size 432x288 with 1 Axes>"
      ]
     },
     "metadata": {
      "needs_background": "light"
     },
     "output_type": "display_data"
    }
   ],
   "source": [
    "import torch\n",
    "import torch.nn as nn\n",
    "from torch.optim import SGD\n",
    "from torch.utils.data import Dataset, DataLoader\n",
    "import matplotlib.pyplot as plt\n",
    "\n",
    "# X = [[1], [2], [3], [4], [5], [6]]\n",
    "# y = [[1], [4], [9], [16], [25], [36]]\n",
    "\n",
    "X = [[1, 2], [3, 4], [5, 6], [7, 8]]\n",
    "y = [[3], [7], [11], [15]]\n",
    "\n",
    "X = torch.tensor(X).float()\n",
    "y = torch.tensor(y).float()\n",
    "\n",
    "device = 'cuda' if torch.cuda.is_available() else 'cpu'\n",
    "\n",
    "class MyDataset(Dataset):\n",
    "    def __init__(self, x, y):\n",
    "        self.x = x.detach().clone()\n",
    "        self.y = y.detach().clone()\n",
    "    def __len__(self):\n",
    "        return len(self.x)\n",
    "    def __getitem__(self, ix):\n",
    "        return self.x[ix], self.y[ix]\n",
    "\n",
    "ds = MyDataset(X, y)\n",
    "dl = DataLoader(ds, batch_size=2, shuffle=True)\n",
    "\n",
    "class NeuralNet(nn.Module):\n",
    "    def __init__(self):\n",
    "        super().__init__()\n",
    "        self.input_to_hidden_layer = nn.Linear(2, 8)\n",
    "        self.hidden_layer_activation = nn.ReLU()\n",
    "        self.hidden_to_output_layer = nn.Linear(8, 1)\n",
    "    def forward(self, x):\n",
    "        x = self.input_to_hidden_layer(x)\n",
    "        x = self.hidden_layer_activation(x)\n",
    "        x = self.hidden_to_output_layer(x)\n",
    "        return x\n",
    "\n",
    "model = NeuralNet().to(device)\n",
    "opt = SGD(model.parameters(), lr=0.001)\n",
    "\n",
    "def mse_function(_y, y):\n",
    "    loss_value = (_y - y)**2\n",
    "    loss_vlaue = loss_value.mean()\n",
    "    return loss_value\n",
    "\n",
    "\n",
    "loss_history = []\n",
    "\n",
    "start = time.time()\n",
    "\n",
    "loss_fn = nn.MSELoss()\n",
    "\n",
    "for _ in range(50):\n",
    "    for ix, iy in dl:\n",
    "        opt.zero_grad()\n",
    "        loss_value = loss_fn(model(ix), iy)\n",
    "        # loss_value = mse_function(model(ix), iy)\n",
    "        loss_value.backward()\n",
    "        opt.step()\n",
    "        loss_history.append(loss_value.detach().numpy())\n",
    "        \n",
    "end = time.time()\n",
    "\n",
    "print(end - start)\n",
    "\n",
    "plt.plot(loss_history)\n",
    "plt.title('Loss variation over increasing epochs')\n",
    "plt.xlabel('epochs')\n",
    "plt.ylabel('loss value')"
   ]
  },
  {
   "cell_type": "code",
   "execution_count": 99,
   "id": "fea60fe3-7f43-4204-8e65-5550e7d629ea",
   "metadata": {},
   "outputs": [
    {
     "name": "stdout",
     "output_type": "stream",
     "text": [
      "tensor([[35.6865]], grad_fn=<AddmmBackward0>)\n"
     ]
    }
   ],
   "source": [
    "val_x = [[20, 11]]\n",
    "val_x = torch.tensor(val_x).float()\n",
    "\n",
    "print(model(val_x))"
   ]
  },
  {
   "cell_type": "markdown",
   "id": "6f14df79-e353-452e-9935-0778feb3bce1",
   "metadata": {},
   "source": [
    "## Values of Intermediate layers"
   ]
  },
  {
   "cell_type": "code",
   "execution_count": 100,
   "id": "99ca204b-b177-4b7a-9d3f-9b804db98580",
   "metadata": {},
   "outputs": [
    {
     "name": "stdout",
     "output_type": "stream",
     "text": [
      "tensor([[1., 2.],\n",
      "        [3., 4.]])\n"
     ]
    }
   ],
   "source": [
    "input_to_hidden = model.input_to_hidden_layer(x)\n",
    "hidden_activation = model.hidden_layer_activation(x)\n",
    "\n",
    "print(hidden_activation)"
   ]
  },
  {
   "cell_type": "code",
   "execution_count": 101,
   "id": "bb4cbbd7-afa4-4d6b-a1d1-e47783b5f293",
   "metadata": {},
   "outputs": [
    {
     "name": "stdout",
     "output_type": "stream",
     "text": [
      "==========================================================================================\n",
      "Layer (type:depth-idx)                   Output Shape              Param #\n",
      "==========================================================================================\n",
      "├─Linear: 1-1                            [-1, 8]                   24\n",
      "├─ReLU: 1-2                              [-1, 8]                   --\n",
      "├─Linear: 1-3                            [-1, 1]                   9\n",
      "==========================================================================================\n",
      "Total params: 33\n",
      "Trainable params: 33\n",
      "Non-trainable params: 0\n",
      "Total mult-adds (M): 0.00\n",
      "==========================================================================================\n",
      "Input size (MB): 0.00\n",
      "Forward/backward pass size (MB): 0.00\n",
      "Params size (MB): 0.00\n",
      "Estimated Total Size (MB): 0.00\n",
      "==========================================================================================\n"
     ]
    },
    {
     "data": {
      "text/plain": [
       "==========================================================================================\n",
       "Layer (type:depth-idx)                   Output Shape              Param #\n",
       "==========================================================================================\n",
       "├─Linear: 1-1                            [-1, 8]                   24\n",
       "├─ReLU: 1-2                              [-1, 8]                   --\n",
       "├─Linear: 1-3                            [-1, 1]                   9\n",
       "==========================================================================================\n",
       "Total params: 33\n",
       "Trainable params: 33\n",
       "Non-trainable params: 0\n",
       "Total mult-adds (M): 0.00\n",
       "==========================================================================================\n",
       "Input size (MB): 0.00\n",
       "Forward/backward pass size (MB): 0.00\n",
       "Params size (MB): 0.00\n",
       "Estimated Total Size (MB): 0.00\n",
       "=========================================================================================="
      ]
     },
     "execution_count": 101,
     "metadata": {},
     "output_type": "execute_result"
    }
   ],
   "source": [
    "from torchsummary import summary\n",
    "\n",
    "summary(model, torch.zeros(1, 2))"
   ]
  },
  {
   "cell_type": "code",
   "execution_count": 102,
   "id": "a4c7d314-70a4-4871-b923-b8b2ebca0bd3",
   "metadata": {},
   "outputs": [
    {
     "name": "stdout",
     "output_type": "stream",
     "text": [
      "tensor([[19.4870],\n",
      "        [16.3919],\n",
      "        [ 4.2749]], grad_fn=<AddmmBackward0>)\n"
     ]
    }
   ],
   "source": [
    "val_x = [[7, 15], [4, 17], [2.4, 1.3]]\n",
    "val_x = torch.tensor(val_x).float()\n",
    "\n",
    "print(model(val_x))"
   ]
  },
  {
   "cell_type": "markdown",
   "id": "adc72564-c594-46fa-ba7d-2ec5c15a191a",
   "metadata": {},
   "source": [
    "## Saving model"
   ]
  },
  {
   "cell_type": "code",
   "execution_count": 103,
   "id": "553894dd-17d1-4918-b431-3ef9054272d2",
   "metadata": {},
   "outputs": [
    {
     "data": {
      "text/plain": [
       "OrderedDict([('input_to_hidden_layer.weight',\n",
       "              tensor([[-0.2808, -0.2297],\n",
       "                      [ 1.0063,  0.5799],\n",
       "                      [-0.0380, -0.1656],\n",
       "                      [ 0.2911, -0.1860],\n",
       "                      [ 0.8834,  0.1307],\n",
       "                      [-0.5821, -0.0791],\n",
       "                      [-0.2694, -0.6868],\n",
       "                      [-0.2494,  0.0800]])),\n",
       "             ('input_to_hidden_layer.bias',\n",
       "              tensor([-0.1847, -0.4623, -0.6571, -0.5827,  0.3829,  0.1301, -0.4686,  0.5908])),\n",
       "             ('hidden_to_output_layer.weight',\n",
       "              tensor([[-0.3191,  0.9331, -0.2216, -0.1138,  0.5952, -0.1450,  0.3083,  0.0677]])),\n",
       "             ('hidden_to_output_layer.bias', tensor([0.1520]))])"
      ]
     },
     "execution_count": 103,
     "metadata": {},
     "output_type": "execute_result"
    }
   ],
   "source": [
    "model.state_dict()"
   ]
  },
  {
   "cell_type": "code",
   "execution_count": 104,
   "id": "7b01fc69-47c9-4bdd-98c1-bd450d42aee9",
   "metadata": {},
   "outputs": [],
   "source": [
    "torch.save(model.to(device).state_dict(), 'fundamentals.pth')"
   ]
  },
  {
   "cell_type": "markdown",
   "id": "86ca815c-7c6e-40b9-97e4-00430d73668b",
   "metadata": {},
   "source": [
    "## Loading model"
   ]
  },
  {
   "cell_type": "code",
   "execution_count": 107,
   "id": "81d6b6d6-40d2-4acf-addd-c4a757e4b715",
   "metadata": {},
   "outputs": [
    {
     "name": "stdout",
     "output_type": "stream",
     "text": [
      "tensor([[ 7.0000, 15.0000],\n",
      "        [ 4.0000, 17.0000],\n",
      "        [ 2.4000,  1.3000]])\n"
     ]
    },
    {
     "data": {
      "text/plain": [
       "tensor([[19.4870],\n",
       "        [16.3919],\n",
       "        [ 4.2749]], grad_fn=<AddmmBackward0>)"
      ]
     },
     "execution_count": 107,
     "metadata": {},
     "output_type": "execute_result"
    }
   ],
   "source": [
    "model = NeuralNet().to(device)\n",
    "\n",
    "state_dict = torch.load('fundamentals.pth')\n",
    "\n",
    "model.load_state_dict(state_dict)\n",
    "model.to(device)\n",
    "\n",
    "print(val_x)\n",
    "\n",
    "model(val_x)"
   ]
  },
  {
   "cell_type": "code",
   "execution_count": null,
   "id": "70cac96c-6b2e-4b3c-b125-73d58290e60b",
   "metadata": {},
   "outputs": [],
   "source": []
  }
 ],
 "metadata": {
  "kernelspec": {
   "display_name": "Python 3 (ipykernel)",
   "language": "python",
   "name": "python3"
  },
  "language_info": {
   "codemirror_mode": {
    "name": "ipython",
    "version": 3
   },
   "file_extension": ".py",
   "mimetype": "text/x-python",
   "name": "python",
   "nbconvert_exporter": "python",
   "pygments_lexer": "ipython3",
   "version": "3.9.7"
  }
 },
 "nbformat": 4,
 "nbformat_minor": 5
}
